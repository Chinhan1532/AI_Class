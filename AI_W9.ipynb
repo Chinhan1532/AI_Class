{
  "nbformat": 4,
  "nbformat_minor": 0,
  "metadata": {
    "colab": {
      "provenance": [],
      "authorship_tag": "ABX9TyPLu8DQ/tD1KZHMYZC8XJAP",
      "include_colab_link": true
    },
    "kernelspec": {
      "name": "python3",
      "display_name": "Python 3"
    },
    "language_info": {
      "name": "python"
    }
  },
  "cells": [
    {
      "cell_type": "markdown",
      "metadata": {
        "id": "view-in-github",
        "colab_type": "text"
      },
      "source": [
        "<a href=\"https://colab.research.google.com/github/Chinhan1532/AI_Class/blob/main/AI_W9.ipynb\" target=\"_parent\"><img src=\"https://colab.research.google.com/assets/colab-badge.svg\" alt=\"Open In Colab\"/></a>"
      ]
    },
    {
      "cell_type": "markdown",
      "source": [
        "# So viet tay\n"
      ],
      "metadata": {
        "id": "QApe9KjypqgD"
      }
    },
    {
      "cell_type": "code",
      "source": [
        "from keras.datasets import mnist\n",
        "(train_images,train_labels),(test_images,test_labels)=mnist.load_data()\n",
        "digit=train_images[15032]\n",
        "import matplotlib.pyplot as plt\n",
        "plt.imshow(digit)\n",
        "plt.show\n",
        "print('So nay la:',train_labels[15032])\n",
        "X=test_images\n",
        "Y=test_labels"
      ],
      "metadata": {
        "colab": {
          "base_uri": "https://localhost:8080/",
          "height": 447
        },
        "id": "maydEuBnQioj",
        "outputId": "deade108-df17-41d7-8dc1-8e3882313c4a"
      },
      "execution_count": null,
      "outputs": [
        {
          "output_type": "stream",
          "name": "stdout",
          "text": [
            "So nay la: 6\n"
          ]
        },
        {
          "output_type": "display_data",
          "data": {
            "text/plain": [
              "<Figure size 640x480 with 1 Axes>"
            ],
            "image/png": "[encoded data removed]"
          },
          "metadata": {}
        }
      ]
    },
    {
      "cell_type": "code",
      "source": [
        "for i in range (10):\n",
        "  plt.subplot(3,5,i+1)\n",
        "  plt.tight_layout\n",
        "  plt.imshow(train_images[i+40000],cmap='Wistia_r', interpolation='None')\n",
        "  plt.title('so nay la:{}'.format(train_labels[i+40000]))\n",
        "  plt.xticks([])\n",
        "  plt.yticks([]) "
      ],
      "metadata": {
        "colab": {
          "base_uri": "https://localhost:8080/",
          "height": 275
        },
        "id": "JrRXqrAhSldc",
        "outputId": "13dfc442-fcc3-454d-849c-b165456709a7"
      },
      "execution_count": null,
      "outputs": [
        {
          "output_type": "display_data",
          "data": {
            "text/plain": [
              "<Figure size 640x480 with 10 Axes>"
            ],
            "image/png": "[encoded data removed]"
          },
          "metadata": {}
        }
      ]
    },
    {
      "cell_type": "code",
      "source": [
        "from keras.models import Sequential # mang ANN, la cac lop ke tiep nhau\n",
        "from keras.layers import Dense  # dense = full_connected: su ket noi day du vao cac te bao\n",
        "model=Sequential() \n",
        "model.add(Dense(512,activation='relu',input_shape=(28*28,))) # tao them 1 lop gom 512 noron, ham truyen cua cac notron la relu, nhan input tu 28*28\n",
        "model.add(Dense(10,activation='softmax')) # tao them 1 lop gom 10 noron, ham truyen cua cac notron la relu\n",
        "model.summary()"
      ],
      "metadata": {
        "colab": {
          "base_uri": "https://localhost:8080/"
        },
        "id": "MBDcJ8pyVehI",
        "outputId": "84ad706e-436f-40f6-e685-e0e8329778c2"
      },
      "execution_count": null,
      "outputs": [
        {
          "output_type": "stream",
          "name": "stdout",
          "text": [
            "Model: \"sequential_5\"\n",
            "_________________________________________________________________\n",
            " Layer (type)                Output Shape              Param #   \n",
            "=================================================================\n",
            " dense_6 (Dense)             (None, 512)               401920    \n",
            "                                                                 \n",
            " dense_7 (Dense)             (None, 10)                5130      \n",
            "                                                                 \n",
            "=================================================================\n",
            "Total params: 407,050\n",
            "Trainable params: 407,050\n",
            "Non-trainable params: 0\n",
            "_________________________________________________________________\n"
          ]
        }
      ]
    },
    {
      "cell_type": "code",
      "source": [
        "train_images=train_images.reshape((60000,28*28))\n",
        "train_images=train_images.astype('float32')/255 #chuyen anh gray sang trang den\n",
        "train_images.shape"
      ],
      "metadata": {
        "colab": {
          "base_uri": "https://localhost:8080/"
        },
        "id": "x9jLHbnpbQ5B",
        "outputId": "4c17329c-1697-4e4e-8297-e8bc5728f263"
      },
      "execution_count": null,
      "outputs": [
        {
          "output_type": "execute_result",
          "data": {
            "text/plain": [
              "(60000, 784)"
            ]
          },
          "metadata": {},
          "execution_count": 70
        }
      ]
    },
    {
      "cell_type": "code",
      "source": [
        "test_images=test_images.reshape((10000,28*28))\n",
        "test_images=test_images.astype('float32')/255 \n",
        "test_images.shape"
      ],
      "metadata": {
        "colab": {
          "base_uri": "https://localhost:8080/"
        },
        "id": "uBEYkF8mdAMG",
        "outputId": "0e292396-5236-4f6a-a47e-e2556fb7f3ee"
      },
      "execution_count": null,
      "outputs": [
        {
          "output_type": "execute_result",
          "data": {
            "text/plain": [
              "(10000, 784)"
            ]
          },
          "metadata": {},
          "execution_count": 71
        }
      ]
    },
    {
      "cell_type": "code",
      "source": [
        "from keras.utils import to_categorical\n",
        "train_labels= to_categorical(train_labels,10)\n",
        "test_labels= to_categorical(test_labels,10)\n",
        "train_labels.shape"
      ],
      "metadata": {
        "colab": {
          "base_uri": "https://localhost:8080/"
        },
        "id": "_OAyUTygdJJN",
        "outputId": "48bf653b-00d5-4a50-b022-1be1b84a8d40"
      },
      "execution_count": null,
      "outputs": [
        {
          "output_type": "execute_result",
          "data": {
            "text/plain": [
              "(60000, 10)"
            ]
          },
          "metadata": {},
          "execution_count": 72
        }
      ]
    },
    {
      "cell_type": "code",
      "source": [
        "test_labels.shape"
      ],
      "metadata": {
        "colab": {
          "base_uri": "https://localhost:8080/"
        },
        "id": "4y9uxeQsecDH",
        "outputId": "bcf5a885-5d57-43db-b14f-d8c82e1022dd"
      },
      "execution_count": null,
      "outputs": [
        {
          "output_type": "execute_result",
          "data": {
            "text/plain": [
              "(10000, 10)"
            ]
          },
          "metadata": {},
          "execution_count": 73
        }
      ]
    },
    {
      "cell_type": "code",
      "source": [
        "model.compile(optimizer='rmsprop',\n",
        "              loss='categorical_crossentropy',\n",
        "              metrics=['accuracy'])\n",
        "model.fit(train_images,train_labels,epochs=20,batch_size=128)\n",
        "test_loss,test_acc=model.evaluate(test_images,test_labels)\n",
        "print('Do mat mat:',test_loss)\n",
        "print('Do chinh xac:',test_acc)\n"
      ],
      "metadata": {
        "colab": {
          "base_uri": "https://localhost:8080/"
        },
        "id": "TvoggyOgel0z",
        "outputId": "0aa5c48b-7e99-4b05-9264-97292f19bbb5"
      },
      "execution_count": null,
      "outputs": [
        {
          "output_type": "stream",
          "name": "stdout",
          "text": [
            "Epoch 1/20\n",
            "469/469 [==============================] - 5s 9ms/step - loss: 0.2627 - accuracy: 0.9251\n",
            "Epoch 2/20\n",
            "469/469 [==============================] - 5s 11ms/step - loss: 0.1090 - accuracy: 0.9680\n",
            "Epoch 3/20\n",
            "469/469 [==============================] - 4s 9ms/step - loss: 0.0715 - accuracy: 0.9789\n",
            "Epoch 4/20\n",
            "469/469 [==============================] - 4s 9ms/step - loss: 0.0523 - accuracy: 0.9847\n",
            "Epoch 5/20\n",
            "469/469 [==============================] - 5s 11ms/step - loss: 0.0394 - accuracy: 0.9880\n",
            "Epoch 6/20\n",
            "469/469 [==============================] - 4s 9ms/step - loss: 0.0295 - accuracy: 0.9911\n",
            "Epoch 7/20\n",
            "469/469 [==============================] - 4s 9ms/step - loss: 0.0216 - accuracy: 0.9936\n",
            "Epoch 8/20\n",
            "469/469 [==============================] - 5s 11ms/step - loss: 0.0171 - accuracy: 0.9952\n",
            "Epoch 9/20\n",
            "469/469 [==============================] - 4s 9ms/step - loss: 0.0121 - accuracy: 0.9970\n",
            "Epoch 10/20\n",
            "469/469 [==============================] - 5s 10ms/step - loss: 0.0094 - accuracy: 0.9976\n",
            "Epoch 11/20\n",
            "469/469 [==============================] - 5s 10ms/step - loss: 0.0069 - accuracy: 0.9984\n",
            "Epoch 12/20\n",
            "469/469 [==============================] - 4s 9ms/step - loss: 0.0050 - accuracy: 0.9990\n",
            "Epoch 13/20\n",
            "469/469 [==============================] - 5s 11ms/step - loss: 0.0038 - accuracy: 0.9992\n",
            "Epoch 14/20\n",
            "469/469 [==============================] - 4s 9ms/step - loss: 0.0026 - accuracy: 0.9996\n",
            "Epoch 15/20\n",
            "469/469 [==============================] - 4s 9ms/step - loss: 0.0018 - accuracy: 0.9997\n",
            "Epoch 16/20\n",
            "469/469 [==============================] - 5s 11ms/step - loss: 0.0011 - accuracy: 0.9998\n",
            "Epoch 17/20\n",
            "469/469 [==============================] - 4s 9ms/step - loss: 8.1908e-04 - accuracy: 0.9999\n",
            "Epoch 18/20\n",
            "469/469 [==============================] - 4s 9ms/step - loss: 5.1088e-04 - accuracy: 1.0000\n",
            "Epoch 19/20\n",
            "469/469 [==============================] - 5s 11ms/step - loss: 3.9736e-04 - accuracy: 1.0000\n",
            "Epoch 20/20\n",
            "469/469 [==============================] - 4s 9ms/step - loss: 3.5281e-04 - accuracy: 1.0000\n",
            "313/313 [==============================] - 1s 4ms/step - loss: 0.0665 - accuracy: 0.9835\n",
            "Do mat mat: 0.0664888322353363\n",
            "Do chinh xac: 0.9835000038146973\n"
          ]
        }
      ]
    }
  ]
}